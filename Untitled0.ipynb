{
  "nbformat": 4,
  "nbformat_minor": 0,
  "metadata": {
    "colab": {
      "name": "Untitled0.ipynb",
      "private_outputs": true,
      "provenance": [],
      "toc_visible": true,
      "mount_file_id": "17m_h4uybM60tYO_JiMIosvOv3Wytwz9L",
      "authorship_tag": "ABX9TyPVd/BmWzz82Wwf36D4YrQr",
      "include_colab_link": true
    },
    "kernelspec": {
      "name": "python3",
      "display_name": "Python 3"
    },
    "language_info": {
      "name": "python"
    },
    "accelerator": "GPU"
  },
  "cells": [
    {
      "cell_type": "markdown",
      "metadata": {
        "id": "view-in-github",
        "colab_type": "text"
      },
      "source": [
        "<a href=\"https://colab.research.google.com/github/trian-ctrn/license-plate/blob/main/Untitled0.ipynb\" target=\"_parent\"><img src=\"https://colab.research.google.com/assets/colab-badge.svg\" alt=\"Open In Colab\"/></a>"
      ]
    },
    {
      "cell_type": "code",
      "metadata": {
        "id": "Mjy2gf04Tai8"
      },
      "source": [
        "import numpy as np\n",
        "import matplotlib.pyplot as plt\n",
        "from PIL import Image\n",
        "import os\n",
        "from datetime import datetime\n",
        "import random\n",
        "import PIL.ImageOps"
      ],
      "execution_count": null,
      "outputs": []
    },
    {
      "cell_type": "code",
      "metadata": {
        "id": "SCvNru8YWhfJ"
      },
      "source": [
        "!unzip '/content/drive/MyDrive/charTrainset'"
      ],
      "execution_count": null,
      "outputs": []
    },
    {
      "cell_type": "markdown",
      "metadata": {
        "id": "EpdMieVKaES4"
      },
      "source": [
        "### Check hình"
      ]
    },
    {
      "cell_type": "code",
      "metadata": {
        "id": "tIcId1-eZfNK"
      },
      "source": [
        "label = ['0','1','2','3','4','5','6','7','8','9',\n",
        "         'A','B','C','D','E','F','G','H','K','L','M','N','P','R','S','T','U','V','X','Y','Z']\n",
        "list_img = []\n",
        "for i in range(len(label)):\n",
        "  IMG_PATH = '/content/charTrainset/'+ label[i] \n",
        "  data_paths = [os.path.join(IMG_PATH, f) for f in os.listdir(IMG_PATH)]\n",
        "  img = [i for i in data_paths if os.path.isfile(i)]\n",
        "  list_img.append(img)\n",
        "print(list_img)"
      ],
      "execution_count": null,
      "outputs": []
    },
    {
      "cell_type": "code",
      "metadata": {
        "id": "HiTCL69BMRsU"
      },
      "source": [
        "plt.figure(figsize=(20,4))\n",
        "for i in range(10):\n",
        "  target = np.random.randint(0, len(list_img))\n",
        "\n",
        "  plt.subplot(2,5, i+1)\n",
        "  image = Image.open(list_img[target][3]).convert('L')\n",
        "  imgplot = plt.imshow(image)\n",
        "  title = 'Ground Truth: '\n",
        "  \n",
        "  for j in label[target]:       \n",
        "    title += j      \n",
        "  plt.title(title)\n",
        "plt.show()"
      ],
      "execution_count": null,
      "outputs": []
    },
    {
      "cell_type": "markdown",
      "metadata": {
        "id": "1vLwgHF3Z7KI"
      },
      "source": [
        "### Image retraining"
      ]
    },
    {
      "cell_type": "code",
      "metadata": {
        "id": "U20MPRG0avds"
      },
      "source": [
        "import tensorflow as tf\n",
        "from tensorflow.keras.models import *\n",
        "from tensorflow.keras.layers import *\n",
        "from tensorflow.keras.callbacks import *\n",
        "from tensorflow.keras.models import Model\n",
        "from tensorflow.keras.layers.experimental.preprocessing import *\n",
        "from tensorflow.keras.layers import Input\n",
        "from tensorflow.random import set_seed\n",
        "from tensorflow.keras.backend import clear_session\n",
        "from tensorflow.keras.applications import *\n"
      ],
      "execution_count": null,
      "outputs": []
    },
    {
      "cell_type": "code",
      "metadata": {
        "id": "iOcBBL0ma-UU"
      },
      "source": [
        "def gray_to_rgb(img):\n",
        "    return np.repeat(img, 3, 2)\n",
        "\n",
        "datagen_kwargs = dict(validation_split=.20)\n",
        "dataflow_kwargs = dict(target_size=(224,224), \n",
        "                   interpolation=\"bilinear\")\n",
        "                   \n",
        "\n",
        "valid_datagen = tf.keras.preprocessing.image.ImageDataGenerator(\n",
        "    **datagen_kwargs)\n",
        "valid_generator = valid_datagen.flow_from_directory(\n",
        "    '/content/charTrainset', \n",
        "    subset=\"validation\", \n",
        "    shuffle=False,\n",
        "    color_mode ='grayscale', \n",
        "    **dataflow_kwargs\n",
        ")\n",
        "\n",
        "do_data_augmentation = False \n",
        "if do_data_augmentation:\n",
        "  train_datagen = tf.keras.preprocessing.image.ImageDataGenerator(\n",
        "      rotation_range=10,\n",
        "      # horizontal_flip=True,\n",
        "      width_shift_range=0.2, height_shift_range=0.2,\n",
        "      # shear_range=0.2,\n",
        "      zoom_range=0.2,\n",
        "      **datagen_kwargs)\n",
        "else:\n",
        "  train_datagen = valid_datagen\n",
        "train_generator = train_datagen.flow_from_directory(\n",
        "    '/content/charTrainset', \n",
        "    subset=\"training\", \n",
        "    shuffle=True,\n",
        "    color_mode ='grayscale', \n",
        "    **dataflow_kwargs\n",
        "  )"
      ],
      "execution_count": null,
      "outputs": []
    },
    {
      "cell_type": "code",
      "metadata": {
        "id": "OimXCQDmEiE6"
      },
      "source": [
        "x = train_generator.next()\n",
        "image = x[0]\n",
        "image = tf.convert_to_tensor(image, dtype=tf.int8)\n",
        "converted = tf.image.grayscale_to_rgb(image[0])\n",
        "converted.numpy()\n",
        "plt.imshow(converted)\n",
        "# plt.imshow(np.squeeze(image[0]), cmap='gray')\n",
        "# max(image[0].astype(np.int8).flatten()), min(image[0].astype(np.int8).flatten())"
      ],
      "execution_count": null,
      "outputs": []
    },
    {
      "cell_type": "markdown",
      "metadata": {
        "id": "OEi14d-Marav"
      },
      "source": [
        "### Mobilev2net"
      ]
    },
    {
      "cell_type": "code",
      "metadata": {
        "id": "4at-H8Hoa2JV"
      },
      "source": [
        "base_model =  tf.keras.applications.MobileNetV2((224,224,3),include_top=False)\n",
        "base_model.trainable = False\n",
        "# Prediction layer\n",
        "prediction_layer = Dense(31,activation = 'softmax')\n",
        "#Preprocess input\n",
        "preprocess_input = tf.keras.applications.mobilenet_v2.preprocess_input\n",
        "# Global average layer\n",
        "global_average_layer = GlobalAveragePooling2D()\n",
        "# base_model.summary()"
      ],
      "execution_count": null,
      "outputs": []
    },
    {
      "cell_type": "code",
      "metadata": {
        "id": "woWPSDGca3N_"
      },
      "source": [
        "inputs = Input(shape=(224,224,1))\n",
        "x = tf.image.grayscale_to_rgb(inputs)\n",
        "x = preprocess_input(x)\n",
        "x = base_model(x, training=False)\n",
        "x = global_average_layer(x)\n",
        "x = Dropout(0.2)(x)\n",
        "outputs = prediction_layer(x) \n",
        "model = Model(inputs,outputs)\n",
        "# model.summary()\n",
        "model.compile(loss='categorical_crossentropy',\n",
        "              optimizer = 'adam',\n",
        "              metrics=['accuracy'])\n",
        "\n",
        "hist = model.fit(train_generator,epochs = 30, validation_data=valid_generator).history  \n"
      ],
      "execution_count": null,
      "outputs": []
    },
    {
      "cell_type": "code",
      "metadata": {
        "id": "psO9RRCO4eDh"
      },
      "source": [
        "plt.figure()\n",
        "plt.ylabel(\"Loss (training and validation)\")\n",
        "plt.xlabel(\"Training Steps\")\n",
        "plt.ylim([0,2])\n",
        "plt.plot(hist[\"loss\"])\n",
        "plt.plot(hist[\"val_loss\"])\n",
        "\n",
        "plt.figure()\n",
        "plt.ylabel(\"Accuracy (training and validation)\")\n",
        "plt.xlabel(\"Training Steps\")\n",
        "plt.ylim([0,1])\n",
        "plt.plot(hist[\"accuracy\"])\n",
        "plt.plot(hist[\"val_accuracy\"])"
      ],
      "execution_count": null,
      "outputs": []
    },
    {
      "cell_type": "code",
      "metadata": {
        "id": "Rk97BwozAjGu"
      },
      "source": [
        "def booyah4(url): \n",
        "  a = []\n",
        "  b = ''  \n",
        "  image = Image.open(url).convert('L')\n",
        "  image = PIL.ImageOps.invert(image)\n",
        "  newsize = (224,224)\n",
        "  width, height = image.size \n",
        "  top = 0  \n",
        "  bottom = height/2.05\n",
        "  left = width/7\n",
        "  right = width/3.9\n",
        "  image1 = image.crop((left, top, right, bottom))\n",
        "  image1 = image1.resize(newsize)\n",
        "  prediction_scores = model.predict(np.expand_dims(image1, axis=0))\n",
        "  predicted_index = np.argmax(prediction_scores)\n",
        "  a.append(label[predicted_index])\n",
        "\n",
        "  left = width/3.6\n",
        "  right = width/2.4\n",
        "  image2 = image.crop((left, top, right, bottom))\n",
        "  image2 = image2.resize(newsize)\n",
        "  prediction_scores = model.predict(np.expand_dims(image2, axis=0))\n",
        "  predicted_index = np.argmax(prediction_scores)\n",
        "  a.append(label[predicted_index])\n",
        "\n",
        "  left = width/1.65\n",
        "  right = width/1.35\n",
        "  image3 = image.crop((left, top, right, bottom))\n",
        "  image3 = image3.resize(newsize)\n",
        "  prediction_scores = model.predict(np.expand_dims(image3, axis=0))\n",
        "  predicted_index = np.argmax(prediction_scores)\n",
        "  a.append(label[predicted_index])\n",
        "\n",
        "  left = right\n",
        "  right = width/1.1\n",
        "  image4 = image.crop((left, top, right, bottom))\n",
        "  image4 = image4.resize(newsize)\n",
        "  prediction_scores = model.predict(np.expand_dims(image4, axis=0))\n",
        "  predicted_index = np.argmax(prediction_scores)\n",
        "  a.append(label[predicted_index])\n",
        "\n",
        "  top = height/2\n",
        "  bottom = height/1.05\n",
        "  left = width/8 \n",
        "  right = width/3.5\n",
        "  image5 = image.crop((left, top, right, bottom))\n",
        "  image5 = image5.resize(newsize)\n",
        "  prediction_scores = model.predict(np.expand_dims(image5, axis=0))\n",
        "  predicted_index = np.argmax(prediction_scores)\n",
        "  a.append(label[predicted_index])\n",
        "\n",
        "  left = width/3\n",
        "  right = width/2.1\n",
        "  image6 = image.crop((left, top, right, bottom))\n",
        "  image6 = image6.resize(newsize)\n",
        "  prediction_scores = model.predict(np.expand_dims(image6, axis=0))\n",
        "  predicted_index = np.argmax(prediction_scores)\n",
        "  a.append(label[predicted_index])\n",
        "\n",
        "  left = width/1.8\n",
        "  right = width/1.5\n",
        "  image7 = image.crop((left, top, right, bottom))\n",
        "  image7 = image7.resize(newsize)\n",
        "  prediction_scores = model.predict(np.expand_dims(image7, axis=0))\n",
        "  predicted_index = np.argmax(prediction_scores)\n",
        "  a.append(label[predicted_index])\n",
        "\n",
        "  left = width/1.35\n",
        "  right = width/1.15\n",
        "  image8 = image.crop((left, top, right, bottom))\n",
        "  image8 = image8.resize(newsize)\n",
        "  prediction_scores = model.predict(np.expand_dims(image8, axis=0))\n",
        "  predicted_index = np.argmax(prediction_scores)\n",
        "  a.append(label[predicted_index])\n",
        "  b = 'Biển số xe trong hình là:'+a[0]+a[1]+'-'+a[2]+a[3]+' '+a[4]+a[5]+a[6]+a[7]\n",
        "  return b"
      ],
      "execution_count": null,
      "outputs": []
    },
    {
      "cell_type": "code",
      "metadata": {
        "id": "zfJM1hMFEyco"
      },
      "source": [
        "def booyah5(url):\n",
        "  a = []\n",
        "  b = ''\n",
        "  image = Image.open(url).convert('L')\n",
        "  image = PIL.ImageOps.invert(image)\n",
        "  newsize = (224,224)\n",
        "  width, height = image.size \n",
        "  top = 0\n",
        "  bottom = height/2.1\n",
        "  left = width/9\n",
        "  right = width/4\n",
        "  image1 = image.crop((left, top, right, bottom))\n",
        "  image1 = image1.resize(newsize)\n",
        "  prediction_scores = model.predict(np.expand_dims(image1, axis=0))\n",
        "  predicted_index = np.argmax(prediction_scores)\n",
        "  a.append(label[predicted_index])\n",
        "\n",
        "  left = right\n",
        "  right = width/2.7\n",
        "  image2 = image.crop((left, top, right, bottom))\n",
        "  image2 = image2.resize(newsize)\n",
        "  prediction_scores = model.predict(np.expand_dims(image2, axis=0))\n",
        "  predicted_index = np.argmax(prediction_scores)\n",
        "  a.append(label[predicted_index])\n",
        "  \n",
        "  \n",
        "  left = width/1.62\n",
        "  right = width/1.4\n",
        "  image3 = image.crop((left, top, right, bottom))\n",
        "  image3 = image3.resize(newsize)\n",
        "  prediction_scores = model.predict(np.expand_dims(image3, axis=0))\n",
        "  predicted_index = np.argmax(prediction_scores)\n",
        "  a.append(label[predicted_index])\n",
        "\n",
        "  left = right\n",
        "  right = width/1.05\n",
        "  image4 = image.crop((left, top, right, bottom))\n",
        "  image4 = image4.resize(newsize)\n",
        "  prediction_scores = model.predict(np.expand_dims(image4, axis=0))\n",
        "  predicted_index = np.argmax(prediction_scores)\n",
        "  a.append(label[predicted_index])\n",
        "\n",
        "  top = bottom\n",
        "  bottom = height/1.05\n",
        "  left = width/11\n",
        "  right = width/5.5\n",
        "  image5 = image.crop((left, top, right, bottom))\n",
        "  image5 = image5.resize(newsize)\n",
        "  prediction_scores = model.predict(np.expand_dims(image5, axis=0))\n",
        "  predicted_index = np.argmax(prediction_scores)\n",
        "  a.append(label[predicted_index])\n",
        "\n",
        "  left = width/4\n",
        "  right = width/2.9\n",
        "  image6 = image.crop((left, top, right, bottom))\n",
        "  image6 = image6.resize(newsize)\n",
        "  prediction_scores = model.predict(np.expand_dims(image6, axis=0))\n",
        "  predicted_index = np.argmax(prediction_scores)\n",
        "  a.append(label[predicted_index])\n",
        "\n",
        "  left = width/2.7\n",
        "  right = width/2\n",
        "  image7 = image.crop((left, top, right, bottom))\n",
        "  image7 = image7.resize(newsize)\n",
        "  prediction_scores = model.predict(np.expand_dims(image7, axis=0))\n",
        "  predicted_index = np.argmax(prediction_scores)\n",
        "  a.append(label[predicted_index])\n",
        "\n",
        "  left = width/1.6\n",
        "  right = width/1.35\n",
        "  image8 = image.crop((left, top, right, bottom))\n",
        "  image8 = image8.resize(newsize)\n",
        "  prediction_scores = model.predict(np.expand_dims(image8, axis=0))\n",
        "  predicted_index = np.argmax(prediction_scores)\n",
        "  a.append(label[predicted_index])\n",
        "\n",
        "  left = width/1.22\n",
        "  right = width/1.1\n",
        "  image9 = image.crop((left, top, right, bottom))\n",
        "  image9 = image9.resize(newsize)\n",
        "  prediction_scores = model.predict(np.expand_dims(image9, axis=0))\n",
        "  predicted_index = np.argmax(prediction_scores)\n",
        "  a.append(label[predicted_index])\n",
        "  b = 'Biển số xe trong hình là:'+a[0]+a[1]+'-'+a[2]+a[3]+' '+a[4]+a[5]+a[6]+'.'+a[7]+a[8]\n",
        "  return b"
      ],
      "execution_count": null,
      "outputs": []
    },
    {
      "cell_type": "code",
      "metadata": {
        "id": "_j0-V7tiTgQ1"
      },
      "source": [
        "!pip install gradio\n",
        "import gradio as gr"
      ],
      "execution_count": null,
      "outputs": []
    },
    {
      "cell_type": "code",
      "metadata": {
        "id": "CRQ-z6VKNgI8"
      },
      "source": [
        "name_dict = {}"
      ],
      "execution_count": null,
      "outputs": []
    },
    {
      "cell_type": "code",
      "metadata": {
        "id": "Jb1czMbkVHmN"
      },
      "source": [
        "\n",
        "def get_value(name):\n",
        "    for key, value in name_dict.items():\n",
        "        if name == key:\n",
        "          return value\n",
        "    return 'Welcome'\n",
        "\n",
        "def new(name,name_dict,choose,url):\n",
        "  id = random.randint(100000, 1000000)\n",
        "  time =  str(datetime.now().strftime('%Y-%m-%d %H:%M:%S'))\n",
        "  if choose == 'Biển 5 Chữ':\n",
        "    name_dict[name] = [id,time,booyah5(url)]\n",
        "    return name_dict\n",
        "  elif choose == 'Biển 4 Chữ':\n",
        "    name_dict[name] = [id,time,booyah4(url)]\n",
        "    return name_dict\n",
        "\n",
        "def get_minutes(name):\n",
        "  fmt = '%Y-%m-%d %H:%M:%S'\n",
        "  outtime = str(datetime.now().strftime(fmt))\n",
        "  d2 = datetime.strptime(outtime, fmt)\n",
        "  intime = get_value(name)[1]\n",
        "  d1 = datetime.strptime(intime, fmt)\n",
        "  minutes_diff = (d2-d1).total_seconds() / 60.0\n",
        "  return minutes_diff\n",
        "\n",
        "def total_money(name,minutes_diff):\n",
        "  if minutes_diff < 30:\n",
        "        del name_dict[name]\n",
        "        return '0 VND'\n",
        "  elif minutes_diff < 120:\n",
        "        del name_dict[name]\n",
        "        return '2000 VND'\n",
        "  elif minutes_diff < 300:\n",
        "        del name_dict[name]\n",
        "        return '5000 VND'\n",
        "  else:\n",
        "        a = '{} VND'.format(5000 + minutes_diff*10)\n",
        "        del name_dict[name]\n",
        "        return a\n",
        "def greet(name,choose,url):\n",
        "  if name in list(name_dict.keys()) :\n",
        "    if choose == 'Biển 5 Chữ':\n",
        "      if get_value(name)[2] == booyah5(url):\n",
        "        minutes_diff = get_minutes(name)\n",
        "        total = total_money(name,minutes_diff)\n",
        "        return booyah5(url),total\n",
        "      else:\n",
        "        return 'This name is picked already','Haizz'\n",
        "    elif choose == 'Biển 4 Chữ':\n",
        "      if get_value(name)[2] == booyah4(url):\n",
        "        minutes_diff = get_minutes(name)\n",
        "        total = total_money(name,minutes_diff)\n",
        "        return booyah4(url),total\n",
        "      else:\n",
        "        return 'This name is picked already','Haizz'\n",
        "  else:\n",
        "    if choose == 'Biển 5 Chữ':\n",
        "      huhu = new(name,name_dict,choose,url)\n",
        "      return booyah5(url),None\n",
        "    if choose == 'Biển 4 Chữ':\n",
        "      huhu = new(name,name_dict,choose,url)\n",
        "      return booyah4(url),None"
      ],
      "execution_count": null,
      "outputs": []
    },
    {
      "cell_type": "code",
      "metadata": {
        "id": "wzj9ZtVbJyEh"
      },
      "source": [
        "#Demo thử tại chỗ luôn\n",
        "\n",
        "print(name_dict)\n",
        "print(greet('An','Biển 4 Chữ','/content/drive/MyDrive/biensoxe2.jpg'))\n",
        "print(name_dict)\n"
      ],
      "execution_count": null,
      "outputs": []
    },
    {
      "cell_type": "markdown",
      "metadata": {
        "id": "PWTqYHMwz4wY"
      },
      "source": [
        "# Hướng dẫn sử dụng nhìn biển số xe"
      ]
    },
    {
      "cell_type": "markdown",
      "metadata": {
        "id": "95WNI7Wl0B8S"
      },
      "source": [
        "1. Khi chạy dòng code ở dưới đầu tiên là nhập tên của mình. Có thể không cần nhập \n",
        "2. Chọn các loại biển số xe, dưới đây sẽ là các vì dụ về các loại biển số xe\n",
        "- Biển 4 chữ (là biến số gồm có 4 chữ ở dưới cùng): ![](https://cdn.discordapp.com/attachments/788768348569600031/842396971217846302/image0.jpg)\n",
        "- Biển 5 chữ (là biển số gồm có 5 chữ số ở dưới cùng): ![](https://baodansinh.mediacdn.vn/Images/2016/06/07/tranhuyenbtv/20131907204552.jpg)\n",
        "- Biển đặc biệt (là biển bao gồm 2 chữ cái)\n",
        "3. Nhập tên độc và lạ để tránh trường hợp bị trùng tên\n",
        "4. Lưu ý giá tiền xe sẽ phụ thuộc vào thời gian: dưới 30 phút thì được free, dưới 2 tiếng thì trả 2000VND, dưới 5 tiếng thì trả 5000VND cứ sau 5 tiếng thì 5000VND cộng tổng số phút giữ xe"
      ]
    },
    {
      "cell_type": "code",
      "metadata": {
        "id": "ilNrCKs0V1bT"
      },
      "source": [
        "iface = gr.Interface(fn=greet, \n",
        "                     inputs = ['text',gr.inputs.Dropdown([\"Biển 4 Chữ\", \"Biển 5 Chữ\"]),'text'],\n",
        "                     outputs=[gr.outputs.Textbox(label='Biển: '),gr.outputs.Textbox(label='Tiền: ')]\n",
        "                     )\n",
        "iface.launch()"
      ],
      "execution_count": null,
      "outputs": []
    },
    {
      "cell_type": "code",
      "metadata": {
        "id": "WLFioF-UHjVV"
      },
      "source": [
        ""
      ],
      "execution_count": null,
      "outputs": []
    }
  ]
}